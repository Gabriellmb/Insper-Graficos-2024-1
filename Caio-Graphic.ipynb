{
 "cells": [
  {
   "cell_type": "markdown",
   "id": "071f9110-db9b-48d0-95f0-f6d7d4b53d6c",
   "metadata": {
    "collapsed": false
   },
   "source": [
    "# Insper\n",
    "## Data Science\n",
    "### Deploy\n",
    "\n",
    "Gráficos - Jupyter notebook publicado no GitHub\n",
    "\n",
    "Caio Garcia"
   ]
  },
  {
   "cell_type": "code",
   "execution_count": null,
   "id": "5de44de9-af7e-4ac1-83da-420701bc56da",
   "metadata": {
    "collapsed": false
   },
   "outputs": [],
   "source": [
    "# https://seaborn.pydata.org/examples/layered_bivariate_plot.html\n",
    "\n",
    "import numpy as np\n",
    "import seaborn as sns\n",
    "import matplotlib.pyplot as plt\n",
    "sns.set_theme(style=\"dark\")\n",
    "\n",
    "# Simulate data from a bivariate Gaussian\n",
    "n = 10000\n",
    "mean = [0, 0]\n",
    "cov = [(2, .4), (.4, .2)]\n",
    "rng = np.random.RandomState(0)\n",
    "x, y = rng.multivariate_normal(mean, cov, n).T\n",
    "\n",
    "# Draw a combo histogram and scatterplot with density contours\n",
    "f, ax = plt.subplots(figsize=(6, 6))\n",
    "sns.scatterplot(x=x, y=y, s=5, color=\".15\")\n",
    "sns.histplot(x=x, y=y, bins=50, pthresh=.1, cmap=\"mako\")\n",
    "sns.kdeplot(x=x, y=y, levels=5, color=\"w\", linewidths=1)"
   ]
  }
 ],
 "metadata": {
  "kernelspec": {
   "argv": [
    "/opt/conda/bin/python",
    "-m",
    "ipykernel_launcher",
    "-f",
    "{connection_file}"
   ],
   "display_name": "Python 3 (ipykernel)",
   "env": null,
   "interrupt_mode": "signal",
   "language": "python",
   "metadata": {
    "debugger": true
   },
   "name": "python3"
  },
  "name": "Caio-Graphic.ipynb"
 },
 "nbformat": 4,
 "nbformat_minor": 5
}
